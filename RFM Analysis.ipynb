{
 "cells": [
  {
   "cell_type": "markdown",
   "metadata": {},
   "source": [
    "# What is RFM Analysis?\n",
    "* RFM (Recency, Frequency, Monetary) analysis is a powerful technique used by businesses to segment and understand their customers based on their buying behavior. \n",
    "* It helps businesses identify their most valuable customers, understand their needs, and tailor marketing strategies to improve customer retention and loyalty. \n",
    " \n",
    "* In this tutorial, I'll walk you through the steps of performing RFM analysis with some practical examples."
   ]
  },
  {
   "cell_type": "markdown",
   "metadata": {},
   "source": [
    "# Step 1: Data Preparation\n",
    "\n",
    "> To conduct RFM analysis, you'll need transactional data that includes the following information:\n",
    "\n",
    "1. Customer ID: A unique identifier for each customer.\n",
    "1. Transaction Date: The date when the customer made a purchase.\n",
    "1. Transaction Amount: The amount spent by the customer in that transaction."
   ]
  },
  {
   "cell_type": "markdown",
   "metadata": {},
   "source": [
    "# Step 2: Calculate RFM Metrics\n",
    "\n",
    "> Now, we'll calculate the RFM metrics for each customer:\n",
    "\n",
    "* Recency (R): The number of days since the customer's last purchase.\n",
    "* Frequency (F): The total number of transactions made by the customer.\n",
    "* Monetary Value (M): The total amount spent by the customer."
   ]
  },
  {
   "cell_type": "code",
   "execution_count": 1,
   "metadata": {},
   "outputs": [],
   "source": [
    "import pandas as pd\n",
    "from datetime import datetime"
   ]
  },
  {
   "cell_type": "code",
   "execution_count": 2,
   "metadata": {},
   "outputs": [
    {
     "data": {
      "text/html": [
       "<div>\n",
       "<style scoped>\n",
       "    .dataframe tbody tr th:only-of-type {\n",
       "        vertical-align: middle;\n",
       "    }\n",
       "\n",
       "    .dataframe tbody tr th {\n",
       "        vertical-align: top;\n",
       "    }\n",
       "\n",
       "    .dataframe thead th {\n",
       "        text-align: right;\n",
       "    }\n",
       "</style>\n",
       "<table border=\"1\" class=\"dataframe\">\n",
       "  <thead>\n",
       "    <tr style=\"text-align: right;\">\n",
       "      <th></th>\n",
       "      <th>TransactionDate</th>\n",
       "      <th>TransactionAmount</th>\n",
       "      <th>CustomerID</th>\n",
       "    </tr>\n",
       "  </thead>\n",
       "  <tbody>\n",
       "    <tr>\n",
       "      <th>0</th>\n",
       "      <td>2010-12-01 08:26:00</td>\n",
       "      <td>2.55</td>\n",
       "      <td>17850.0</td>\n",
       "    </tr>\n",
       "    <tr>\n",
       "      <th>1</th>\n",
       "      <td>2010-12-01 08:26:00</td>\n",
       "      <td>3.39</td>\n",
       "      <td>17850.0</td>\n",
       "    </tr>\n",
       "    <tr>\n",
       "      <th>2</th>\n",
       "      <td>2010-12-01 08:26:00</td>\n",
       "      <td>2.75</td>\n",
       "      <td>17850.0</td>\n",
       "    </tr>\n",
       "    <tr>\n",
       "      <th>3</th>\n",
       "      <td>2010-12-01 08:26:00</td>\n",
       "      <td>3.39</td>\n",
       "      <td>17850.0</td>\n",
       "    </tr>\n",
       "    <tr>\n",
       "      <th>4</th>\n",
       "      <td>2010-12-01 08:26:00</td>\n",
       "      <td>3.39</td>\n",
       "      <td>17850.0</td>\n",
       "    </tr>\n",
       "  </tbody>\n",
       "</table>\n",
       "</div>"
      ],
      "text/plain": [
       "      TransactionDate  TransactionAmount  CustomerID\n",
       "0 2010-12-01 08:26:00               2.55     17850.0\n",
       "1 2010-12-01 08:26:00               3.39     17850.0\n",
       "2 2010-12-01 08:26:00               2.75     17850.0\n",
       "3 2010-12-01 08:26:00               3.39     17850.0\n",
       "4 2010-12-01 08:26:00               3.39     17850.0"
      ]
     },
     "execution_count": 2,
     "metadata": {},
     "output_type": "execute_result"
    }
   ],
   "source": [
    "# Load the data\n",
    "df = pd.read_excel(\"RFM.xlsx\",sheet_name = 'data')  ## reading the data\n",
    "df.head()  ## top 5 rows of data"
   ]
  },
  {
   "cell_type": "code",
   "execution_count": 3,
   "metadata": {},
   "outputs": [
    {
     "data": {
      "text/html": [
       "<div>\n",
       "<style scoped>\n",
       "    .dataframe tbody tr th:only-of-type {\n",
       "        vertical-align: middle;\n",
       "    }\n",
       "\n",
       "    .dataframe tbody tr th {\n",
       "        vertical-align: top;\n",
       "    }\n",
       "\n",
       "    .dataframe thead th {\n",
       "        text-align: right;\n",
       "    }\n",
       "</style>\n",
       "<table border=\"1\" class=\"dataframe\">\n",
       "  <thead>\n",
       "    <tr style=\"text-align: right;\">\n",
       "      <th></th>\n",
       "      <th>TransactionDate</th>\n",
       "      <th>TransactionAmount</th>\n",
       "      <th>CustomerID</th>\n",
       "    </tr>\n",
       "  </thead>\n",
       "  <tbody>\n",
       "    <tr>\n",
       "      <th>0</th>\n",
       "      <td>2010-12-01 08:26:00</td>\n",
       "      <td>2.55</td>\n",
       "      <td>17850.0</td>\n",
       "    </tr>\n",
       "    <tr>\n",
       "      <th>1</th>\n",
       "      <td>2010-12-01 08:26:00</td>\n",
       "      <td>3.39</td>\n",
       "      <td>17850.0</td>\n",
       "    </tr>\n",
       "    <tr>\n",
       "      <th>2</th>\n",
       "      <td>2010-12-01 08:26:00</td>\n",
       "      <td>2.75</td>\n",
       "      <td>17850.0</td>\n",
       "    </tr>\n",
       "    <tr>\n",
       "      <th>3</th>\n",
       "      <td>2010-12-01 08:26:00</td>\n",
       "      <td>3.39</td>\n",
       "      <td>17850.0</td>\n",
       "    </tr>\n",
       "    <tr>\n",
       "      <th>4</th>\n",
       "      <td>2010-12-01 08:26:00</td>\n",
       "      <td>3.39</td>\n",
       "      <td>17850.0</td>\n",
       "    </tr>\n",
       "    <tr>\n",
       "      <th>...</th>\n",
       "      <td>...</td>\n",
       "      <td>...</td>\n",
       "      <td>...</td>\n",
       "    </tr>\n",
       "    <tr>\n",
       "      <th>86898</th>\n",
       "      <td>2011-02-10 14:38:00</td>\n",
       "      <td>4.95</td>\n",
       "      <td>17850.0</td>\n",
       "    </tr>\n",
       "    <tr>\n",
       "      <th>86899</th>\n",
       "      <td>2011-02-10 14:38:00</td>\n",
       "      <td>1.06</td>\n",
       "      <td>17850.0</td>\n",
       "    </tr>\n",
       "    <tr>\n",
       "      <th>86900</th>\n",
       "      <td>2011-02-10 14:38:00</td>\n",
       "      <td>2.75</td>\n",
       "      <td>17850.0</td>\n",
       "    </tr>\n",
       "    <tr>\n",
       "      <th>86901</th>\n",
       "      <td>2011-02-10 14:38:00</td>\n",
       "      <td>4.95</td>\n",
       "      <td>17850.0</td>\n",
       "    </tr>\n",
       "    <tr>\n",
       "      <th>86902</th>\n",
       "      <td>2011-02-10 14:38:00</td>\n",
       "      <td>1.45</td>\n",
       "      <td>17850.0</td>\n",
       "    </tr>\n",
       "  </tbody>\n",
       "</table>\n",
       "<p>312 rows × 3 columns</p>\n",
       "</div>"
      ],
      "text/plain": [
       "          TransactionDate  TransactionAmount  CustomerID\n",
       "0     2010-12-01 08:26:00               2.55     17850.0\n",
       "1     2010-12-01 08:26:00               3.39     17850.0\n",
       "2     2010-12-01 08:26:00               2.75     17850.0\n",
       "3     2010-12-01 08:26:00               3.39     17850.0\n",
       "4     2010-12-01 08:26:00               3.39     17850.0\n",
       "...                   ...                ...         ...\n",
       "86898 2011-02-10 14:38:00               4.95     17850.0\n",
       "86899 2011-02-10 14:38:00               1.06     17850.0\n",
       "86900 2011-02-10 14:38:00               2.75     17850.0\n",
       "86901 2011-02-10 14:38:00               4.95     17850.0\n",
       "86902 2011-02-10 14:38:00               1.45     17850.0\n",
       "\n",
       "[312 rows x 3 columns]"
      ]
     },
     "execution_count": 3,
     "metadata": {},
     "output_type": "execute_result"
    }
   ],
   "source": [
    "df[df.CustomerID == 17850.0]"
   ]
  },
  {
   "cell_type": "code",
   "execution_count": 4,
   "metadata": {},
   "outputs": [
    {
     "data": {
      "text/plain": [
       "(541910, 3)"
      ]
     },
     "execution_count": 4,
     "metadata": {},
     "output_type": "execute_result"
    }
   ],
   "source": [
    "df.shape ## rows, column"
   ]
  },
  {
   "cell_type": "code",
   "execution_count": 5,
   "metadata": {},
   "outputs": [
    {
     "data": {
      "text/plain": [
       "4372"
      ]
     },
     "execution_count": 5,
     "metadata": {},
     "output_type": "execute_result"
    }
   ],
   "source": [
    "df.CustomerID.nunique()  ## nunique : gives the no of unique values in a column\n",
    "#df.CustomerID.unique()   ## unique : gives the unique values in a column\n",
    "#df.CustomerID.value_counts() ## value_counts : tells me how many times a value of a column is present in the table"
   ]
  },
  {
   "cell_type": "code",
   "execution_count": 6,
   "metadata": {},
   "outputs": [
    {
     "name": "stdout",
     "output_type": "stream",
     "text": [
      "<class 'pandas.core.frame.DataFrame'>\n",
      "RangeIndex: 541910 entries, 0 to 541909\n",
      "Data columns (total 3 columns):\n",
      " #   Column             Non-Null Count   Dtype         \n",
      "---  ------             --------------   -----         \n",
      " 0   TransactionDate    541910 non-null  datetime64[ns]\n",
      " 1   TransactionAmount  541910 non-null  float64       \n",
      " 2   CustomerID         406830 non-null  float64       \n",
      "dtypes: datetime64[ns](1), float64(2)\n",
      "memory usage: 12.4 MB\n"
     ]
    }
   ],
   "source": [
    "df.info()\n",
    "\n",
    "## 541910 - 406830 ## null values in customer ID column"
   ]
  },
  {
   "cell_type": "code",
   "execution_count": 7,
   "metadata": {},
   "outputs": [],
   "source": [
    "df.fillna(-1,inplace=True)"
   ]
  },
  {
   "cell_type": "code",
   "execution_count": 15,
   "metadata": {},
   "outputs": [
    {
     "data": {
      "text/plain": [
       "541910"
      ]
     },
     "execution_count": 15,
     "metadata": {},
     "output_type": "execute_result"
    }
   ],
   "source": [
    "df.CustomerID.count()"
   ]
  },
  {
   "cell_type": "code",
   "execution_count": 16,
   "metadata": {},
   "outputs": [
    {
     "data": {
      "text/html": [
       "<div>\n",
       "<style scoped>\n",
       "    .dataframe tbody tr th:only-of-type {\n",
       "        vertical-align: middle;\n",
       "    }\n",
       "\n",
       "    .dataframe tbody tr th {\n",
       "        vertical-align: top;\n",
       "    }\n",
       "\n",
       "    .dataframe thead th {\n",
       "        text-align: right;\n",
       "    }\n",
       "</style>\n",
       "<table border=\"1\" class=\"dataframe\">\n",
       "  <thead>\n",
       "    <tr style=\"text-align: right;\">\n",
       "      <th></th>\n",
       "      <th>TransactionDate</th>\n",
       "      <th>TransactionAmount</th>\n",
       "      <th>CustomerID</th>\n",
       "    </tr>\n",
       "  </thead>\n",
       "  <tbody>\n",
       "    <tr>\n",
       "      <th>count</th>\n",
       "      <td>541910</td>\n",
       "      <td>541910.000000</td>\n",
       "      <td>541910.000000</td>\n",
       "    </tr>\n",
       "    <tr>\n",
       "      <th>mean</th>\n",
       "      <td>2011-07-04 13:35:22.342307584</td>\n",
       "      <td>4.611138</td>\n",
       "      <td>11476.727625</td>\n",
       "    </tr>\n",
       "    <tr>\n",
       "      <th>min</th>\n",
       "      <td>2010-12-01 08:26:00</td>\n",
       "      <td>-11062.060000</td>\n",
       "      <td>-1.000000</td>\n",
       "    </tr>\n",
       "    <tr>\n",
       "      <th>25%</th>\n",
       "      <td>2011-03-28 11:34:00</td>\n",
       "      <td>1.250000</td>\n",
       "      <td>12352.000000</td>\n",
       "    </tr>\n",
       "    <tr>\n",
       "      <th>50%</th>\n",
       "      <td>2011-07-19 17:17:00</td>\n",
       "      <td>2.080000</td>\n",
       "      <td>14382.000000</td>\n",
       "    </tr>\n",
       "    <tr>\n",
       "      <th>75%</th>\n",
       "      <td>2011-10-19 11:27:00</td>\n",
       "      <td>4.130000</td>\n",
       "      <td>16255.000000</td>\n",
       "    </tr>\n",
       "    <tr>\n",
       "      <th>max</th>\n",
       "      <td>2011-12-09 12:50:00</td>\n",
       "      <td>38970.000000</td>\n",
       "      <td>18287.000000</td>\n",
       "    </tr>\n",
       "    <tr>\n",
       "      <th>std</th>\n",
       "      <td>NaN</td>\n",
       "      <td>96.759765</td>\n",
       "      <td>6778.324352</td>\n",
       "    </tr>\n",
       "  </tbody>\n",
       "</table>\n",
       "</div>"
      ],
      "text/plain": [
       "                     TransactionDate  TransactionAmount     CustomerID\n",
       "count                         541910      541910.000000  541910.000000\n",
       "mean   2011-07-04 13:35:22.342307584           4.611138   11476.727625\n",
       "min              2010-12-01 08:26:00      -11062.060000      -1.000000\n",
       "25%              2011-03-28 11:34:00           1.250000   12352.000000\n",
       "50%              2011-07-19 17:17:00           2.080000   14382.000000\n",
       "75%              2011-10-19 11:27:00           4.130000   16255.000000\n",
       "max              2011-12-09 12:50:00       38970.000000   18287.000000\n",
       "std                              NaN          96.759765    6778.324352"
      ]
     },
     "execution_count": 16,
     "metadata": {},
     "output_type": "execute_result"
    }
   ],
   "source": [
    "df.describe()  ## basic statistical analysis of my numeric variables"
   ]
  },
  {
   "cell_type": "code",
   "execution_count": 17,
   "metadata": {},
   "outputs": [],
   "source": [
    "# Convert TransactionDate to a datetime object\n",
    "\n",
    "df['TransactionDate'] = pd.to_datetime(df['TransactionDate'])"
   ]
  },
  {
   "cell_type": "code",
   "execution_count": 18,
   "metadata": {},
   "outputs": [
    {
     "name": "stdout",
     "output_type": "stream",
     "text": [
      "            Recency  Frequency    Monetary\n",
      "CustomerID                                \n",
      "-1.0           4620     135080  1090984.01\n",
      " 12346.0       4945          2        2.08\n",
      " 12347.0       4622        182      481.21\n",
      " 12348.0       4695         31      178.71\n",
      " 12349.0       4638         73      605.10\n"
     ]
    }
   ],
   "source": [
    "#5 mar 2023 , 7 jul 23, 8 oct 23 , 5 jan 2024 , 3 mar 2024  ---> max txn date : 3 mar 2024 : \n",
    "\n",
    "## 24 may 2024 - 3 mar 2024 : convert it to days ---> recency value\n",
    "\n",
    "\n",
    "# Calculate Recency, Frequency, and Monetary Value for each customer\n",
    "today = datetime(2024, 8, 3)   ## today's date to calculate the recency : recency = last order date - today's date \n",
    "\n",
    "rfm = df.groupby('CustomerID').agg({\n",
    "    'TransactionDate': lambda x: (today - x.max()).days,   ## give me the diff of max(txn date) of a customer & today's date\n",
    "    'CustomerID': 'count',      ### Frequency of the customer txn\n",
    "    'TransactionAmount': 'sum'  ### total spend of the customer \n",
    "})\n",
    "\n",
    "# Rename the columns for clarity\n",
    "rfm.rename(columns={\n",
    "    'TransactionDate': 'Recency',\n",
    "    'CustomerID': 'Frequency',\n",
    "    'TransactionAmount': 'Monetary'\n",
    "}, inplace=True)\n",
    "\n",
    "print(rfm.head())"
   ]
  },
  {
   "cell_type": "code",
   "execution_count": 20,
   "metadata": {},
   "outputs": [
    {
     "data": {
      "text/html": [
       "<div>\n",
       "<style scoped>\n",
       "    .dataframe tbody tr th:only-of-type {\n",
       "        vertical-align: middle;\n",
       "    }\n",
       "\n",
       "    .dataframe tbody tr th {\n",
       "        vertical-align: top;\n",
       "    }\n",
       "\n",
       "    .dataframe thead th {\n",
       "        text-align: right;\n",
       "    }\n",
       "</style>\n",
       "<table border=\"1\" class=\"dataframe\">\n",
       "  <thead>\n",
       "    <tr style=\"text-align: right;\">\n",
       "      <th></th>\n",
       "      <th>TransactionDate</th>\n",
       "      <th>TransactionAmount</th>\n",
       "      <th>CustomerID</th>\n",
       "    </tr>\n",
       "  </thead>\n",
       "  <tbody>\n",
       "    <tr>\n",
       "      <th>61619</th>\n",
       "      <td>2011-01-18 10:01:00</td>\n",
       "      <td>1.04</td>\n",
       "      <td>12346.0</td>\n",
       "    </tr>\n",
       "    <tr>\n",
       "      <th>61624</th>\n",
       "      <td>2011-01-18 10:17:00</td>\n",
       "      <td>1.04</td>\n",
       "      <td>12346.0</td>\n",
       "    </tr>\n",
       "  </tbody>\n",
       "</table>\n",
       "</div>"
      ],
      "text/plain": [
       "          TransactionDate  TransactionAmount  CustomerID\n",
       "61619 2011-01-18 10:01:00               1.04     12346.0\n",
       "61624 2011-01-18 10:17:00               1.04     12346.0"
      ]
     },
     "execution_count": 20,
     "metadata": {},
     "output_type": "execute_result"
    }
   ],
   "source": [
    "df[df.CustomerID == 12346]  ## this particular customer "
   ]
  },
  {
   "cell_type": "code",
   "execution_count": 21,
   "metadata": {},
   "outputs": [
    {
     "data": {
      "text/plain": [
       "13.311475409836065"
      ]
     },
     "execution_count": 21,
     "metadata": {},
     "output_type": "execute_result"
    }
   ],
   "source": [
    "x = 4872/366\n",
    "x"
   ]
  },
  {
   "cell_type": "code",
   "execution_count": 22,
   "metadata": {},
   "outputs": [
    {
     "data": {
      "text/plain": [
       "(4373, 3)"
      ]
     },
     "execution_count": 22,
     "metadata": {},
     "output_type": "execute_result"
    }
   ],
   "source": [
    "rfm.shape  ## 4372 customers"
   ]
  },
  {
   "cell_type": "markdown",
   "metadata": {},
   "source": [
    "# Step 3: RFM Segmentation\n",
    "\n",
    "> Next, we'll segment the customers based on their RFM scores. \n",
    "* To do this, we'll divide each RFM metric into quartiles (or any other relevant segments) to create meaningful segments."
   ]
  },
  {
   "cell_type": "code",
   "execution_count": 23,
   "metadata": {},
   "outputs": [
    {
     "name": "stdout",
     "output_type": "stream",
     "text": [
      "            Recency  Frequency    Monetary RFM_Segment\n",
      "CustomerID                                            \n",
      "-1.0           4620     135080  1090984.01         111\n",
      " 12346.0       4945          2        2.08         444\n",
      " 12347.0       4622        182      481.21         111\n",
      " 12348.0       4695         31      178.71         332\n",
      " 12349.0       4638         73      605.10         221\n"
     ]
    }
   ],
   "source": [
    "# Create quartiles for Recency, Frequency, and Monetary\n",
    "quantiles = rfm.quantile(q=[0.25, 0.5, 0.75])\n",
    "\n",
    "# Create a function to assign RFM scores and segments\n",
    "def rfm_segment(row):\n",
    "    r_score = 1 if row['Recency'] <= quantiles['Recency'][0.25] else 2 if row['Recency'] <= quantiles['Recency'][0.5] else 3 if row['Recency'] <= quantiles['Recency'][0.75] else 4\n",
    "    f_score = 4 if row['Frequency'] <= quantiles['Frequency'][0.25] else 3 if row['Frequency'] <= quantiles['Frequency'][0.5] else 2 if row['Frequency'] <= quantiles['Frequency'][0.75] else 1\n",
    "    m_score = 4 if row['Monetary'] <= quantiles['Monetary'][0.25] else 3 if row['Monetary'] <= quantiles['Monetary'][0.5] else 2 if row['Monetary'] <= quantiles['Monetary'][0.75] else 1\n",
    "    return str(r_score) + str(f_score) + str(m_score)\n",
    "\n",
    "## recency score is better if it is lower :\n",
    "## frequency score is better if it is lower :\n",
    "## monetary score is better if it is lower :\n",
    "\n",
    "#recency value : less , r score is best at 1 \n",
    "#freqyency value : less , f score is best at 1 \n",
    "#monetary value : less , m score is best at 1 \n",
    "\n",
    "## best customer : 111 , worst customer : 444\n",
    "\n",
    "# Assign RFM scores and segments to each customer\n",
    "rfm['RFM_Segment'] = rfm.apply(rfm_segment, axis=1)\n",
    "print(rfm.head())"
   ]
  },
  {
   "cell_type": "markdown",
   "metadata": {},
   "source": [
    "# Step 4: Interpretation of RFM Segments\n",
    "\n",
    "> Now that we have segmented the customers, we can interpret each segment based on their RFM scores:\n",
    "\n",
    "1. High-Value Customers: High Recency (1 or 2), High Frequency (3 or 4), and High Monetary Value (3 or 4).\n",
    "1. Potential Loyalists: High Recency (1 or 2), High Frequency (3 or 4), and Low Monetary Value (1 or 2).\n",
    "1. At Risk: Low Recency (3 or 4), High Frequency (3 or 4), and High Monetary Value (3 or 4).\n",
    "1. Lost Customers: Low Recency (3 or 4), Low Frequency (1 or 2), and Low Monetary Value (1 or 2)."
   ]
  },
  {
   "cell_type": "markdown",
   "metadata": {},
   "source": [
    "# Step 5: Actionable Insights\n",
    "\n",
    "> Once we understand our RFM segments, we can tailor marketing strategies accordingly:\n",
    "\n",
    "1. High-Value Customers: Reward them with exclusive offers or loyalty programs to maintain their loyalty.\n",
    "1. Potential Loyalists: Encourage them to increase their spending with personalized offers or discounts.\n",
    "1. At Risk: Engage them with retention campaigns to prevent churn.\n",
    "1. Lost Customers: Launch win-back campaigns to re-engage with these customers.\n",
    "Remember that RFM analysis is a valuable tool for understanding customer behavior, and the segments and actions can be further refined based on your specific business goals and data."
   ]
  },
  {
   "cell_type": "markdown",
   "metadata": {},
   "source": []
  }
 ],
 "metadata": {
  "kernelspec": {
   "display_name": "Python 3 (ipykernel)",
   "language": "python",
   "name": "python3"
  },
  "language_info": {
   "codemirror_mode": {
    "name": "ipython",
    "version": 3
   },
   "file_extension": ".py",
   "mimetype": "text/x-python",
   "name": "python",
   "nbconvert_exporter": "python",
   "pygments_lexer": "ipython3",
   "version": "3.12.4"
  }
 },
 "nbformat": 4,
 "nbformat_minor": 4
}
